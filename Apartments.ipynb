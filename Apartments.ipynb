{
  "nbformat": 4,
  "nbformat_minor": 0,
  "metadata": {
    "colab": {
      "provenance": [],
      "authorship_tag": "ABX9TyNY2aDYH8GCQJJLirJ8Bndq",
      "include_colab_link": true
    },
    "kernelspec": {
      "name": "python3",
      "display_name": "Python 3"
    },
    "language_info": {
      "name": "python"
    }
  },
  "cells": [
    {
      "cell_type": "markdown",
      "metadata": {
        "id": "view-in-github",
        "colab_type": "text"
      },
      "source": [
        "<a href=\"https://colab.research.google.com/github/Jy-Maloba/ApartmentsDistribution/blob/main/Assignment1.ipynb\" target=\"_parent\"><img src=\"https://colab.research.google.com/assets/colab-badge.svg\" alt=\"Open In Colab\"/></a>"
      ]
    },
    {
      "cell_type": "code",
      "execution_count": 3,
      "metadata": {
        "id": "HJPDUM1iuxFO"
      },
      "outputs": [],
      "source": [
        "import numpy as np\n",
        "import pandas as pd\n",
        "import matplotlib.pyplot as plt\n",
        "import seaborn as sns\n"
      ]
    },
    {
      "cell_type": "code",
      "source": [
        "Apartments=pd.read_csv(\"apartments.csv\")"
      ],
      "metadata": {
        "id": "eoNxlWJ2vWZD"
      },
      "execution_count": 4,
      "outputs": []
    },
    {
      "cell_type": "code",
      "source": [
        "\n",
        "Apartments.describe()"
      ],
      "metadata": {
        "colab": {
          "base_uri": "https://localhost:8080/",
          "height": 300
        },
        "id": "kj11OjFE7RS6",
        "outputId": "a95f06fc-f0d8-43ab-87e5-06d355baee27"
      },
      "execution_count": 5,
      "outputs": [
        {
          "output_type": "execute_result",
          "data": {
            "text/plain": [
              "        Unnamed: 0     bedrooms    bathrooms\n",
              "count  2520.000000  2520.000000  2520.000000\n",
              "mean   1259.500000     2.551190     2.450794\n",
              "std     727.605662     0.922868     0.976480\n",
              "min       0.000000     1.000000     1.000000\n",
              "25%     629.750000     2.000000     2.000000\n",
              "50%    1259.500000     3.000000     2.000000\n",
              "75%    1889.250000     3.000000     3.000000\n",
              "max    2519.000000     4.000000     5.000000"
            ],
            "text/html": [
              "\n",
              "  <div id=\"df-3f638292-3c97-4680-8596-9f4f1fa75076\">\n",
              "    <div class=\"colab-df-container\">\n",
              "      <div>\n",
              "<style scoped>\n",
              "    .dataframe tbody tr th:only-of-type {\n",
              "        vertical-align: middle;\n",
              "    }\n",
              "\n",
              "    .dataframe tbody tr th {\n",
              "        vertical-align: top;\n",
              "    }\n",
              "\n",
              "    .dataframe thead th {\n",
              "        text-align: right;\n",
              "    }\n",
              "</style>\n",
              "<table border=\"1\" class=\"dataframe\">\n",
              "  <thead>\n",
              "    <tr style=\"text-align: right;\">\n",
              "      <th></th>\n",
              "      <th>Unnamed: 0</th>\n",
              "      <th>bedrooms</th>\n",
              "      <th>bathrooms</th>\n",
              "    </tr>\n",
              "  </thead>\n",
              "  <tbody>\n",
              "    <tr>\n",
              "      <th>count</th>\n",
              "      <td>2520.000000</td>\n",
              "      <td>2520.000000</td>\n",
              "      <td>2520.000000</td>\n",
              "    </tr>\n",
              "    <tr>\n",
              "      <th>mean</th>\n",
              "      <td>1259.500000</td>\n",
              "      <td>2.551190</td>\n",
              "      <td>2.450794</td>\n",
              "    </tr>\n",
              "    <tr>\n",
              "      <th>std</th>\n",
              "      <td>727.605662</td>\n",
              "      <td>0.922868</td>\n",
              "      <td>0.976480</td>\n",
              "    </tr>\n",
              "    <tr>\n",
              "      <th>min</th>\n",
              "      <td>0.000000</td>\n",
              "      <td>1.000000</td>\n",
              "      <td>1.000000</td>\n",
              "    </tr>\n",
              "    <tr>\n",
              "      <th>25%</th>\n",
              "      <td>629.750000</td>\n",
              "      <td>2.000000</td>\n",
              "      <td>2.000000</td>\n",
              "    </tr>\n",
              "    <tr>\n",
              "      <th>50%</th>\n",
              "      <td>1259.500000</td>\n",
              "      <td>3.000000</td>\n",
              "      <td>2.000000</td>\n",
              "    </tr>\n",
              "    <tr>\n",
              "      <th>75%</th>\n",
              "      <td>1889.250000</td>\n",
              "      <td>3.000000</td>\n",
              "      <td>3.000000</td>\n",
              "    </tr>\n",
              "    <tr>\n",
              "      <th>max</th>\n",
              "      <td>2519.000000</td>\n",
              "      <td>4.000000</td>\n",
              "      <td>5.000000</td>\n",
              "    </tr>\n",
              "  </tbody>\n",
              "</table>\n",
              "</div>\n",
              "      <button class=\"colab-df-convert\" onclick=\"convertToInteractive('df-3f638292-3c97-4680-8596-9f4f1fa75076')\"\n",
              "              title=\"Convert this dataframe to an interactive table.\"\n",
              "              style=\"display:none;\">\n",
              "        \n",
              "  <svg xmlns=\"http://www.w3.org/2000/svg\" height=\"24px\"viewBox=\"0 0 24 24\"\n",
              "       width=\"24px\">\n",
              "    <path d=\"M0 0h24v24H0V0z\" fill=\"none\"/>\n",
              "    <path d=\"M18.56 5.44l.94 2.06.94-2.06 2.06-.94-2.06-.94-.94-2.06-.94 2.06-2.06.94zm-11 1L8.5 8.5l.94-2.06 2.06-.94-2.06-.94L8.5 2.5l-.94 2.06-2.06.94zm10 10l.94 2.06.94-2.06 2.06-.94-2.06-.94-.94-2.06-.94 2.06-2.06.94z\"/><path d=\"M17.41 7.96l-1.37-1.37c-.4-.4-.92-.59-1.43-.59-.52 0-1.04.2-1.43.59L10.3 9.45l-7.72 7.72c-.78.78-.78 2.05 0 2.83L4 21.41c.39.39.9.59 1.41.59.51 0 1.02-.2 1.41-.59l7.78-7.78 2.81-2.81c.8-.78.8-2.07 0-2.86zM5.41 20L4 18.59l7.72-7.72 1.47 1.35L5.41 20z\"/>\n",
              "  </svg>\n",
              "      </button>\n",
              "      \n",
              "  <style>\n",
              "    .colab-df-container {\n",
              "      display:flex;\n",
              "      flex-wrap:wrap;\n",
              "      gap: 12px;\n",
              "    }\n",
              "\n",
              "    .colab-df-convert {\n",
              "      background-color: #E8F0FE;\n",
              "      border: none;\n",
              "      border-radius: 50%;\n",
              "      cursor: pointer;\n",
              "      display: none;\n",
              "      fill: #1967D2;\n",
              "      height: 32px;\n",
              "      padding: 0 0 0 0;\n",
              "      width: 32px;\n",
              "    }\n",
              "\n",
              "    .colab-df-convert:hover {\n",
              "      background-color: #E2EBFA;\n",
              "      box-shadow: 0px 1px 2px rgba(60, 64, 67, 0.3), 0px 1px 3px 1px rgba(60, 64, 67, 0.15);\n",
              "      fill: #174EA6;\n",
              "    }\n",
              "\n",
              "    [theme=dark] .colab-df-convert {\n",
              "      background-color: #3B4455;\n",
              "      fill: #D2E3FC;\n",
              "    }\n",
              "\n",
              "    [theme=dark] .colab-df-convert:hover {\n",
              "      background-color: #434B5C;\n",
              "      box-shadow: 0px 1px 3px 1px rgba(0, 0, 0, 0.15);\n",
              "      filter: drop-shadow(0px 1px 2px rgba(0, 0, 0, 0.3));\n",
              "      fill: #FFFFFF;\n",
              "    }\n",
              "  </style>\n",
              "\n",
              "      <script>\n",
              "        const buttonEl =\n",
              "          document.querySelector('#df-3f638292-3c97-4680-8596-9f4f1fa75076 button.colab-df-convert');\n",
              "        buttonEl.style.display =\n",
              "          google.colab.kernel.accessAllowed ? 'block' : 'none';\n",
              "\n",
              "        async function convertToInteractive(key) {\n",
              "          const element = document.querySelector('#df-3f638292-3c97-4680-8596-9f4f1fa75076');\n",
              "          const dataTable =\n",
              "            await google.colab.kernel.invokeFunction('convertToInteractive',\n",
              "                                                     [key], {});\n",
              "          if (!dataTable) return;\n",
              "\n",
              "          const docLinkHtml = 'Like what you see? Visit the ' +\n",
              "            '<a target=\"_blank\" href=https://colab.research.google.com/notebooks/data_table.ipynb>data table notebook</a>'\n",
              "            + ' to learn more about interactive tables.';\n",
              "          element.innerHTML = '';\n",
              "          dataTable['output_type'] = 'display_data';\n",
              "          await google.colab.output.renderOutput(dataTable, element);\n",
              "          const docLink = document.createElement('div');\n",
              "          docLink.innerHTML = docLinkHtml;\n",
              "          element.appendChild(docLink);\n",
              "        }\n",
              "      </script>\n",
              "    </div>\n",
              "  </div>\n",
              "  "
            ]
          },
          "metadata": {},
          "execution_count": 5
        }
      ]
    },
    {
      "cell_type": "code",
      "source": [
        "# displaying the first 5 rows of the dataset\n",
        "Apartments.head()"
      ],
      "metadata": {
        "colab": {
          "base_uri": "https://localhost:8080/",
          "height": 206
        },
        "id": "Pe5eiInwASXp",
        "outputId": "e94445e2-79f6-4afb-b448-5efc6da2aa39"
      },
      "execution_count": 20,
      "outputs": [
        {
          "output_type": "execute_result",
          "data": {
            "text/plain": [
              "                                              title  \\\n",
              "0   3 Bedroom Apartment / Flat to rent in Riverside   \n",
              "1  3 Bedroom Apartment / Flat to rent in Kileleshwa   \n",
              "2       3 Bedroom Apartment / Flat to rent in Nyali   \n",
              "3   3 Bedroom Apartment / Flat to rent in Lavington   \n",
              "4  1 Bedroom Apartment / Flat to rent in Kileleshwa   \n",
              "\n",
              "                                   location  bedrooms  bathrooms     price  \\\n",
              "0  Riverside Dr Nairobi, Riverside, Nairobi         3          3   200 000   \n",
              "1                       Kileleshwa, Nairobi         3          4    70 000   \n",
              "2          Links Rd Mombasa, Nyali, Mombasa         3          2    38 000   \n",
              "3    Near Valley Arcade, Lavington, Nairobi         3          3    80 000   \n",
              "4                       Kileleshwa, Nairobi         1          1   110 000   \n",
              "\n",
              "        rate  \n",
              "0  Per Month  \n",
              "1  Per Month  \n",
              "2  Per Month  \n",
              "3  Per Month  \n",
              "4  Per Month  "
            ],
            "text/html": [
              "\n",
              "  <div id=\"df-eab482dd-df5d-4d48-be79-adaa8d90bcbd\">\n",
              "    <div class=\"colab-df-container\">\n",
              "      <div>\n",
              "<style scoped>\n",
              "    .dataframe tbody tr th:only-of-type {\n",
              "        vertical-align: middle;\n",
              "    }\n",
              "\n",
              "    .dataframe tbody tr th {\n",
              "        vertical-align: top;\n",
              "    }\n",
              "\n",
              "    .dataframe thead th {\n",
              "        text-align: right;\n",
              "    }\n",
              "</style>\n",
              "<table border=\"1\" class=\"dataframe\">\n",
              "  <thead>\n",
              "    <tr style=\"text-align: right;\">\n",
              "      <th></th>\n",
              "      <th>title</th>\n",
              "      <th>location</th>\n",
              "      <th>bedrooms</th>\n",
              "      <th>bathrooms</th>\n",
              "      <th>price</th>\n",
              "      <th>rate</th>\n",
              "    </tr>\n",
              "  </thead>\n",
              "  <tbody>\n",
              "    <tr>\n",
              "      <th>0</th>\n",
              "      <td>3 Bedroom Apartment / Flat to rent in Riverside</td>\n",
              "      <td>Riverside Dr Nairobi, Riverside, Nairobi</td>\n",
              "      <td>3</td>\n",
              "      <td>3</td>\n",
              "      <td>200 000</td>\n",
              "      <td>Per Month</td>\n",
              "    </tr>\n",
              "    <tr>\n",
              "      <th>1</th>\n",
              "      <td>3 Bedroom Apartment / Flat to rent in Kileleshwa</td>\n",
              "      <td>Kileleshwa, Nairobi</td>\n",
              "      <td>3</td>\n",
              "      <td>4</td>\n",
              "      <td>70 000</td>\n",
              "      <td>Per Month</td>\n",
              "    </tr>\n",
              "    <tr>\n",
              "      <th>2</th>\n",
              "      <td>3 Bedroom Apartment / Flat to rent in Nyali</td>\n",
              "      <td>Links Rd Mombasa, Nyali, Mombasa</td>\n",
              "      <td>3</td>\n",
              "      <td>2</td>\n",
              "      <td>38 000</td>\n",
              "      <td>Per Month</td>\n",
              "    </tr>\n",
              "    <tr>\n",
              "      <th>3</th>\n",
              "      <td>3 Bedroom Apartment / Flat to rent in Lavington</td>\n",
              "      <td>Near Valley Arcade, Lavington, Nairobi</td>\n",
              "      <td>3</td>\n",
              "      <td>3</td>\n",
              "      <td>80 000</td>\n",
              "      <td>Per Month</td>\n",
              "    </tr>\n",
              "    <tr>\n",
              "      <th>4</th>\n",
              "      <td>1 Bedroom Apartment / Flat to rent in Kileleshwa</td>\n",
              "      <td>Kileleshwa, Nairobi</td>\n",
              "      <td>1</td>\n",
              "      <td>1</td>\n",
              "      <td>110 000</td>\n",
              "      <td>Per Month</td>\n",
              "    </tr>\n",
              "  </tbody>\n",
              "</table>\n",
              "</div>\n",
              "      <button class=\"colab-df-convert\" onclick=\"convertToInteractive('df-eab482dd-df5d-4d48-be79-adaa8d90bcbd')\"\n",
              "              title=\"Convert this dataframe to an interactive table.\"\n",
              "              style=\"display:none;\">\n",
              "        \n",
              "  <svg xmlns=\"http://www.w3.org/2000/svg\" height=\"24px\"viewBox=\"0 0 24 24\"\n",
              "       width=\"24px\">\n",
              "    <path d=\"M0 0h24v24H0V0z\" fill=\"none\"/>\n",
              "    <path d=\"M18.56 5.44l.94 2.06.94-2.06 2.06-.94-2.06-.94-.94-2.06-.94 2.06-2.06.94zm-11 1L8.5 8.5l.94-2.06 2.06-.94-2.06-.94L8.5 2.5l-.94 2.06-2.06.94zm10 10l.94 2.06.94-2.06 2.06-.94-2.06-.94-.94-2.06-.94 2.06-2.06.94z\"/><path d=\"M17.41 7.96l-1.37-1.37c-.4-.4-.92-.59-1.43-.59-.52 0-1.04.2-1.43.59L10.3 9.45l-7.72 7.72c-.78.78-.78 2.05 0 2.83L4 21.41c.39.39.9.59 1.41.59.51 0 1.02-.2 1.41-.59l7.78-7.78 2.81-2.81c.8-.78.8-2.07 0-2.86zM5.41 20L4 18.59l7.72-7.72 1.47 1.35L5.41 20z\"/>\n",
              "  </svg>\n",
              "      </button>\n",
              "      \n",
              "  <style>\n",
              "    .colab-df-container {\n",
              "      display:flex;\n",
              "      flex-wrap:wrap;\n",
              "      gap: 12px;\n",
              "    }\n",
              "\n",
              "    .colab-df-convert {\n",
              "      background-color: #E8F0FE;\n",
              "      border: none;\n",
              "      border-radius: 50%;\n",
              "      cursor: pointer;\n",
              "      display: none;\n",
              "      fill: #1967D2;\n",
              "      height: 32px;\n",
              "      padding: 0 0 0 0;\n",
              "      width: 32px;\n",
              "    }\n",
              "\n",
              "    .colab-df-convert:hover {\n",
              "      background-color: #E2EBFA;\n",
              "      box-shadow: 0px 1px 2px rgba(60, 64, 67, 0.3), 0px 1px 3px 1px rgba(60, 64, 67, 0.15);\n",
              "      fill: #174EA6;\n",
              "    }\n",
              "\n",
              "    [theme=dark] .colab-df-convert {\n",
              "      background-color: #3B4455;\n",
              "      fill: #D2E3FC;\n",
              "    }\n",
              "\n",
              "    [theme=dark] .colab-df-convert:hover {\n",
              "      background-color: #434B5C;\n",
              "      box-shadow: 0px 1px 3px 1px rgba(0, 0, 0, 0.15);\n",
              "      filter: drop-shadow(0px 1px 2px rgba(0, 0, 0, 0.3));\n",
              "      fill: #FFFFFF;\n",
              "    }\n",
              "  </style>\n",
              "\n",
              "      <script>\n",
              "        const buttonEl =\n",
              "          document.querySelector('#df-eab482dd-df5d-4d48-be79-adaa8d90bcbd button.colab-df-convert');\n",
              "        buttonEl.style.display =\n",
              "          google.colab.kernel.accessAllowed ? 'block' : 'none';\n",
              "\n",
              "        async function convertToInteractive(key) {\n",
              "          const element = document.querySelector('#df-eab482dd-df5d-4d48-be79-adaa8d90bcbd');\n",
              "          const dataTable =\n",
              "            await google.colab.kernel.invokeFunction('convertToInteractive',\n",
              "                                                     [key], {});\n",
              "          if (!dataTable) return;\n",
              "\n",
              "          const docLinkHtml = 'Like what you see? Visit the ' +\n",
              "            '<a target=\"_blank\" href=https://colab.research.google.com/notebooks/data_table.ipynb>data table notebook</a>'\n",
              "            + ' to learn more about interactive tables.';\n",
              "          element.innerHTML = '';\n",
              "          dataTable['output_type'] = 'display_data';\n",
              "          await google.colab.output.renderOutput(dataTable, element);\n",
              "          const docLink = document.createElement('div');\n",
              "          docLink.innerHTML = docLinkHtml;\n",
              "          element.appendChild(docLink);\n",
              "        }\n",
              "      </script>\n",
              "    </div>\n",
              "  </div>\n",
              "  "
            ]
          },
          "metadata": {},
          "execution_count": 20
        }
      ]
    },
    {
      "cell_type": "code",
      "source": [
        "# size of the dataset\n",
        "Apartments.shape"
      ],
      "metadata": {
        "colab": {
          "base_uri": "https://localhost:8080/"
        },
        "id": "z-lOyxN3AgXf",
        "outputId": "8adc72c4-2217-4f8e-e810-60a80b0f7b17"
      },
      "execution_count": 21,
      "outputs": [
        {
          "output_type": "execute_result",
          "data": {
            "text/plain": [
              "(2520, 6)"
            ]
          },
          "metadata": {},
          "execution_count": 21
        }
      ]
    },
    {
      "cell_type": "markdown",
      "source": [
        "The dataset has 2520 rows and 6 columns\n"
      ],
      "metadata": {
        "id": "QkyY-RrKARrA"
      }
    },
    {
      "cell_type": "code",
      "source": [
        "# displaying the colums of the dataset\n",
        "Apartments.columns\n"
      ],
      "metadata": {
        "colab": {
          "base_uri": "https://localhost:8080/"
        },
        "id": "uKzaD3DuAuR1",
        "outputId": "eec130d9-2a16-4cf0-e848-4c043cfb7b01"
      },
      "execution_count": 23,
      "outputs": [
        {
          "output_type": "execute_result",
          "data": {
            "text/plain": [
              "Index(['title', 'location', 'bedrooms', 'bathrooms', 'price', 'rate'], dtype='object')"
            ]
          },
          "metadata": {},
          "execution_count": 23
        }
      ]
    },
    {
      "cell_type": "code",
      "source": [
        "#checking datatypes of the variables within the dataset\n",
        "Apartments.dtypes"
      ],
      "metadata": {
        "colab": {
          "base_uri": "https://localhost:8080/"
        },
        "id": "7hTU9RtBBRRv",
        "outputId": "5a0c8769-cff2-4732-d2b2-0d99c433c470"
      },
      "execution_count": 24,
      "outputs": [
        {
          "output_type": "execute_result",
          "data": {
            "text/plain": [
              "title        object\n",
              "location     object\n",
              "bedrooms      int64\n",
              "bathrooms     int64\n",
              "price        object\n",
              "rate         object\n",
              "dtype: object"
            ]
          },
          "metadata": {},
          "execution_count": 24
        }
      ]
    },
    {
      "cell_type": "code",
      "source": [
        "#changing the price column to string\n",
        "Apartments['price'] = Apartments['price'].astype('str')"
      ],
      "metadata": {
        "id": "vsVyTHVTHySk"
      },
      "execution_count": 39,
      "outputs": []
    },
    {
      "cell_type": "code",
      "source": [
        "#removing the white spaces from the values in the price column\n",
        "Apartments['price'] = Apartments['price'].str.replace(\" \",\"\")"
      ],
      "metadata": {
        "id": "Uqvo1n_4HI4S"
      },
      "execution_count": 41,
      "outputs": []
    },
    {
      "cell_type": "code",
      "source": [
        "#changing the price column to an integer since it is set to an object by default\n",
        "Apartments['price'] = Apartments['price'].astype('int64')"
      ],
      "metadata": {
        "id": "niX4ju2ZFmOU"
      },
      "execution_count": 42,
      "outputs": []
    },
    {
      "cell_type": "code",
      "source": [
        "Apartments.info"
      ],
      "metadata": {
        "colab": {
          "base_uri": "https://localhost:8080/"
        },
        "id": "xoAeY9VTBc6E",
        "outputId": "60ecd1e9-f86f-46be-a35a-1c8252cfc7a1"
      },
      "execution_count": 25,
      "outputs": [
        {
          "output_type": "execute_result",
          "data": {
            "text/plain": [
              "<bound method DataFrame.info of                                                   title  \\\n",
              "0       3 Bedroom Apartment / Flat to rent in Riverside   \n",
              "1      3 Bedroom Apartment / Flat to rent in Kileleshwa   \n",
              "2           3 Bedroom Apartment / Flat to rent in Nyali   \n",
              "3       3 Bedroom Apartment / Flat to rent in Lavington   \n",
              "4      1 Bedroom Apartment / Flat to rent in Kileleshwa   \n",
              "...                                                 ...   \n",
              "2515     3 Bedroom Apartment / Flat to rent in Kilimani   \n",
              "2516        3 Bedroom Apartment / Flat to rent in Nyali   \n",
              "2517  2 Bedroom Apartment / Flat to rent in Spring V...   \n",
              "2518     4 Bedroom Apartment / Flat to rent in Muthaiga   \n",
              "2519    2 Bedroom Apartment / Flat to rent in Westlands   \n",
              "\n",
              "                                               location  bedrooms  bathrooms  \\\n",
              "0              Riverside Dr Nairobi, Riverside, Nairobi         3          3   \n",
              "1                                   Kileleshwa, Nairobi         3          4   \n",
              "2                      Links Rd Mombasa, Nyali, Mombasa         3          2   \n",
              "3                Near Valley Arcade, Lavington, Nairobi         3          3   \n",
              "4                                   Kileleshwa, Nairobi         1          1   \n",
              "...                                                 ...       ...        ...   \n",
              "2515                                  Kilimani, Nairobi         3          3   \n",
              "2516                                                NaN         3          2   \n",
              "2517  Grevillea Grove Spring Valley, Spring Valley, ...         2          3   \n",
              "2518                                  Muthaiga, Nairobi         4          5   \n",
              "2519                                 Westlands, Nairobi         2          2   \n",
              "\n",
              "         price       rate  \n",
              "0      200 000  Per Month  \n",
              "1       70 000  Per Month  \n",
              "2       38 000  Per Month  \n",
              "3       80 000  Per Month  \n",
              "4      110 000  Per Month  \n",
              "...        ...        ...  \n",
              "2515    75 000  Per Month  \n",
              "2516    45 000  Per Month  \n",
              "2517    65 000  Per Month  \n",
              "2518   300 000  Per Month  \n",
              "2519   100 000  Per Month  \n",
              "\n",
              "[2520 rows x 6 columns]>"
            ]
          },
          "metadata": {},
          "execution_count": 25
        }
      ]
    },
    {
      "cell_type": "code",
      "source": [
        "Apartments.duplicated()"
      ],
      "metadata": {
        "colab": {
          "base_uri": "https://localhost:8080/"
        },
        "id": "WrdKudWE7xKA",
        "outputId": "271cd3c5-d9fa-4ccc-94fd-43def44cbd4c"
      },
      "execution_count": 6,
      "outputs": [
        {
          "output_type": "execute_result",
          "data": {
            "text/plain": [
              "0       False\n",
              "1       False\n",
              "2       False\n",
              "3       False\n",
              "4       False\n",
              "        ...  \n",
              "2515    False\n",
              "2516    False\n",
              "2517    False\n",
              "2518    False\n",
              "2519    False\n",
              "Length: 2520, dtype: bool"
            ]
          },
          "metadata": {},
          "execution_count": 6
        }
      ]
    },
    {
      "cell_type": "code",
      "source": [],
      "metadata": {
        "id": "jsqxhnit8JyY"
      },
      "execution_count": 6,
      "outputs": []
    },
    {
      "cell_type": "markdown",
      "source": [
        "# Checking for duplicates\n",
        "The results for all the columns is False. \n",
        "There is no duplication within the dataset"
      ],
      "metadata": {
        "id": "wO6v5X9V8KcB"
      }
    },
    {
      "cell_type": "code",
      "source": [
        "Apartments.drop_duplicates()"
      ],
      "metadata": {
        "colab": {
          "base_uri": "https://localhost:8080/",
          "height": 424
        },
        "id": "acpCMVE88klJ",
        "outputId": "134b8ca4-6574-4512-f0c4-b00c5761b4b5"
      },
      "execution_count": 7,
      "outputs": [
        {
          "output_type": "execute_result",
          "data": {
            "text/plain": [
              "      Unnamed: 0                                              title  \\\n",
              "0              0    3 Bedroom Apartment / Flat to rent in Riverside   \n",
              "1              1   3 Bedroom Apartment / Flat to rent in Kileleshwa   \n",
              "2              2        3 Bedroom Apartment / Flat to rent in Nyali   \n",
              "3              3    3 Bedroom Apartment / Flat to rent in Lavington   \n",
              "4              4   1 Bedroom Apartment / Flat to rent in Kileleshwa   \n",
              "...          ...                                                ...   \n",
              "2515        2515     3 Bedroom Apartment / Flat to rent in Kilimani   \n",
              "2516        2516        3 Bedroom Apartment / Flat to rent in Nyali   \n",
              "2517        2517  2 Bedroom Apartment / Flat to rent in Spring V...   \n",
              "2518        2518     4 Bedroom Apartment / Flat to rent in Muthaiga   \n",
              "2519        2519    2 Bedroom Apartment / Flat to rent in Westlands   \n",
              "\n",
              "                                               location  bedrooms  bathrooms  \\\n",
              "0              Riverside Dr Nairobi, Riverside, Nairobi         3          3   \n",
              "1                                   Kileleshwa, Nairobi         3          4   \n",
              "2                      Links Rd Mombasa, Nyali, Mombasa         3          2   \n",
              "3                Near Valley Arcade, Lavington, Nairobi         3          3   \n",
              "4                                   Kileleshwa, Nairobi         1          1   \n",
              "...                                                 ...       ...        ...   \n",
              "2515                                  Kilimani, Nairobi         3          3   \n",
              "2516                                                NaN         3          2   \n",
              "2517  Grevillea Grove Spring Valley, Spring Valley, ...         2          3   \n",
              "2518                                  Muthaiga, Nairobi         4          5   \n",
              "2519                                 Westlands, Nairobi         2          2   \n",
              "\n",
              "         price       rate  \n",
              "0      200 000  Per Month  \n",
              "1       70 000  Per Month  \n",
              "2       38 000  Per Month  \n",
              "3       80 000  Per Month  \n",
              "4      110 000  Per Month  \n",
              "...        ...        ...  \n",
              "2515    75 000  Per Month  \n",
              "2516    45 000  Per Month  \n",
              "2517    65 000  Per Month  \n",
              "2518   300 000  Per Month  \n",
              "2519   100 000  Per Month  \n",
              "\n",
              "[2520 rows x 7 columns]"
            ],
            "text/html": [
              "\n",
              "  <div id=\"df-ef7c88d1-184a-472f-9606-66947111f190\">\n",
              "    <div class=\"colab-df-container\">\n",
              "      <div>\n",
              "<style scoped>\n",
              "    .dataframe tbody tr th:only-of-type {\n",
              "        vertical-align: middle;\n",
              "    }\n",
              "\n",
              "    .dataframe tbody tr th {\n",
              "        vertical-align: top;\n",
              "    }\n",
              "\n",
              "    .dataframe thead th {\n",
              "        text-align: right;\n",
              "    }\n",
              "</style>\n",
              "<table border=\"1\" class=\"dataframe\">\n",
              "  <thead>\n",
              "    <tr style=\"text-align: right;\">\n",
              "      <th></th>\n",
              "      <th>Unnamed: 0</th>\n",
              "      <th>title</th>\n",
              "      <th>location</th>\n",
              "      <th>bedrooms</th>\n",
              "      <th>bathrooms</th>\n",
              "      <th>price</th>\n",
              "      <th>rate</th>\n",
              "    </tr>\n",
              "  </thead>\n",
              "  <tbody>\n",
              "    <tr>\n",
              "      <th>0</th>\n",
              "      <td>0</td>\n",
              "      <td>3 Bedroom Apartment / Flat to rent in Riverside</td>\n",
              "      <td>Riverside Dr Nairobi, Riverside, Nairobi</td>\n",
              "      <td>3</td>\n",
              "      <td>3</td>\n",
              "      <td>200 000</td>\n",
              "      <td>Per Month</td>\n",
              "    </tr>\n",
              "    <tr>\n",
              "      <th>1</th>\n",
              "      <td>1</td>\n",
              "      <td>3 Bedroom Apartment / Flat to rent in Kileleshwa</td>\n",
              "      <td>Kileleshwa, Nairobi</td>\n",
              "      <td>3</td>\n",
              "      <td>4</td>\n",
              "      <td>70 000</td>\n",
              "      <td>Per Month</td>\n",
              "    </tr>\n",
              "    <tr>\n",
              "      <th>2</th>\n",
              "      <td>2</td>\n",
              "      <td>3 Bedroom Apartment / Flat to rent in Nyali</td>\n",
              "      <td>Links Rd Mombasa, Nyali, Mombasa</td>\n",
              "      <td>3</td>\n",
              "      <td>2</td>\n",
              "      <td>38 000</td>\n",
              "      <td>Per Month</td>\n",
              "    </tr>\n",
              "    <tr>\n",
              "      <th>3</th>\n",
              "      <td>3</td>\n",
              "      <td>3 Bedroom Apartment / Flat to rent in Lavington</td>\n",
              "      <td>Near Valley Arcade, Lavington, Nairobi</td>\n",
              "      <td>3</td>\n",
              "      <td>3</td>\n",
              "      <td>80 000</td>\n",
              "      <td>Per Month</td>\n",
              "    </tr>\n",
              "    <tr>\n",
              "      <th>4</th>\n",
              "      <td>4</td>\n",
              "      <td>1 Bedroom Apartment / Flat to rent in Kileleshwa</td>\n",
              "      <td>Kileleshwa, Nairobi</td>\n",
              "      <td>1</td>\n",
              "      <td>1</td>\n",
              "      <td>110 000</td>\n",
              "      <td>Per Month</td>\n",
              "    </tr>\n",
              "    <tr>\n",
              "      <th>...</th>\n",
              "      <td>...</td>\n",
              "      <td>...</td>\n",
              "      <td>...</td>\n",
              "      <td>...</td>\n",
              "      <td>...</td>\n",
              "      <td>...</td>\n",
              "      <td>...</td>\n",
              "    </tr>\n",
              "    <tr>\n",
              "      <th>2515</th>\n",
              "      <td>2515</td>\n",
              "      <td>3 Bedroom Apartment / Flat to rent in Kilimani</td>\n",
              "      <td>Kilimani, Nairobi</td>\n",
              "      <td>3</td>\n",
              "      <td>3</td>\n",
              "      <td>75 000</td>\n",
              "      <td>Per Month</td>\n",
              "    </tr>\n",
              "    <tr>\n",
              "      <th>2516</th>\n",
              "      <td>2516</td>\n",
              "      <td>3 Bedroom Apartment / Flat to rent in Nyali</td>\n",
              "      <td>NaN</td>\n",
              "      <td>3</td>\n",
              "      <td>2</td>\n",
              "      <td>45 000</td>\n",
              "      <td>Per Month</td>\n",
              "    </tr>\n",
              "    <tr>\n",
              "      <th>2517</th>\n",
              "      <td>2517</td>\n",
              "      <td>2 Bedroom Apartment / Flat to rent in Spring V...</td>\n",
              "      <td>Grevillea Grove Spring Valley, Spring Valley, ...</td>\n",
              "      <td>2</td>\n",
              "      <td>3</td>\n",
              "      <td>65 000</td>\n",
              "      <td>Per Month</td>\n",
              "    </tr>\n",
              "    <tr>\n",
              "      <th>2518</th>\n",
              "      <td>2518</td>\n",
              "      <td>4 Bedroom Apartment / Flat to rent in Muthaiga</td>\n",
              "      <td>Muthaiga, Nairobi</td>\n",
              "      <td>4</td>\n",
              "      <td>5</td>\n",
              "      <td>300 000</td>\n",
              "      <td>Per Month</td>\n",
              "    </tr>\n",
              "    <tr>\n",
              "      <th>2519</th>\n",
              "      <td>2519</td>\n",
              "      <td>2 Bedroom Apartment / Flat to rent in Westlands</td>\n",
              "      <td>Westlands, Nairobi</td>\n",
              "      <td>2</td>\n",
              "      <td>2</td>\n",
              "      <td>100 000</td>\n",
              "      <td>Per Month</td>\n",
              "    </tr>\n",
              "  </tbody>\n",
              "</table>\n",
              "<p>2520 rows × 7 columns</p>\n",
              "</div>\n",
              "      <button class=\"colab-df-convert\" onclick=\"convertToInteractive('df-ef7c88d1-184a-472f-9606-66947111f190')\"\n",
              "              title=\"Convert this dataframe to an interactive table.\"\n",
              "              style=\"display:none;\">\n",
              "        \n",
              "  <svg xmlns=\"http://www.w3.org/2000/svg\" height=\"24px\"viewBox=\"0 0 24 24\"\n",
              "       width=\"24px\">\n",
              "    <path d=\"M0 0h24v24H0V0z\" fill=\"none\"/>\n",
              "    <path d=\"M18.56 5.44l.94 2.06.94-2.06 2.06-.94-2.06-.94-.94-2.06-.94 2.06-2.06.94zm-11 1L8.5 8.5l.94-2.06 2.06-.94-2.06-.94L8.5 2.5l-.94 2.06-2.06.94zm10 10l.94 2.06.94-2.06 2.06-.94-2.06-.94-.94-2.06-.94 2.06-2.06.94z\"/><path d=\"M17.41 7.96l-1.37-1.37c-.4-.4-.92-.59-1.43-.59-.52 0-1.04.2-1.43.59L10.3 9.45l-7.72 7.72c-.78.78-.78 2.05 0 2.83L4 21.41c.39.39.9.59 1.41.59.51 0 1.02-.2 1.41-.59l7.78-7.78 2.81-2.81c.8-.78.8-2.07 0-2.86zM5.41 20L4 18.59l7.72-7.72 1.47 1.35L5.41 20z\"/>\n",
              "  </svg>\n",
              "      </button>\n",
              "      \n",
              "  <style>\n",
              "    .colab-df-container {\n",
              "      display:flex;\n",
              "      flex-wrap:wrap;\n",
              "      gap: 12px;\n",
              "    }\n",
              "\n",
              "    .colab-df-convert {\n",
              "      background-color: #E8F0FE;\n",
              "      border: none;\n",
              "      border-radius: 50%;\n",
              "      cursor: pointer;\n",
              "      display: none;\n",
              "      fill: #1967D2;\n",
              "      height: 32px;\n",
              "      padding: 0 0 0 0;\n",
              "      width: 32px;\n",
              "    }\n",
              "\n",
              "    .colab-df-convert:hover {\n",
              "      background-color: #E2EBFA;\n",
              "      box-shadow: 0px 1px 2px rgba(60, 64, 67, 0.3), 0px 1px 3px 1px rgba(60, 64, 67, 0.15);\n",
              "      fill: #174EA6;\n",
              "    }\n",
              "\n",
              "    [theme=dark] .colab-df-convert {\n",
              "      background-color: #3B4455;\n",
              "      fill: #D2E3FC;\n",
              "    }\n",
              "\n",
              "    [theme=dark] .colab-df-convert:hover {\n",
              "      background-color: #434B5C;\n",
              "      box-shadow: 0px 1px 3px 1px rgba(0, 0, 0, 0.15);\n",
              "      filter: drop-shadow(0px 1px 2px rgba(0, 0, 0, 0.3));\n",
              "      fill: #FFFFFF;\n",
              "    }\n",
              "  </style>\n",
              "\n",
              "      <script>\n",
              "        const buttonEl =\n",
              "          document.querySelector('#df-ef7c88d1-184a-472f-9606-66947111f190 button.colab-df-convert');\n",
              "        buttonEl.style.display =\n",
              "          google.colab.kernel.accessAllowed ? 'block' : 'none';\n",
              "\n",
              "        async function convertToInteractive(key) {\n",
              "          const element = document.querySelector('#df-ef7c88d1-184a-472f-9606-66947111f190');\n",
              "          const dataTable =\n",
              "            await google.colab.kernel.invokeFunction('convertToInteractive',\n",
              "                                                     [key], {});\n",
              "          if (!dataTable) return;\n",
              "\n",
              "          const docLinkHtml = 'Like what you see? Visit the ' +\n",
              "            '<a target=\"_blank\" href=https://colab.research.google.com/notebooks/data_table.ipynb>data table notebook</a>'\n",
              "            + ' to learn more about interactive tables.';\n",
              "          element.innerHTML = '';\n",
              "          dataTable['output_type'] = 'display_data';\n",
              "          await google.colab.output.renderOutput(dataTable, element);\n",
              "          const docLink = document.createElement('div');\n",
              "          docLink.innerHTML = docLinkHtml;\n",
              "          element.appendChild(docLink);\n",
              "        }\n",
              "      </script>\n",
              "    </div>\n",
              "  </div>\n",
              "  "
            ]
          },
          "metadata": {},
          "execution_count": 7
        }
      ]
    },
    {
      "cell_type": "code",
      "source": [],
      "metadata": {
        "id": "YED4_JkY8lMK"
      },
      "execution_count": 7,
      "outputs": []
    },
    {
      "cell_type": "markdown",
      "source": [
        "# Droping duplicates\n",
        "This deletes all the duplicates within the dataset."
      ],
      "metadata": {
        "id": "5v-oTjdD8zzc"
      }
    },
    {
      "cell_type": "code",
      "source": [
        "#checking for missing values within the dataset\n",
        "Apartments.isnull().sum()"
      ],
      "metadata": {
        "colab": {
          "base_uri": "https://localhost:8080/"
        },
        "id": "3liP881W84lA",
        "outputId": "0d96e4a8-7fa3-4854-fa16-578658baa24e"
      },
      "execution_count": 26,
      "outputs": [
        {
          "output_type": "execute_result",
          "data": {
            "text/plain": [
              "title          0\n",
              "location     376\n",
              "bedrooms       0\n",
              "bathrooms      0\n",
              "price          0\n",
              "rate           0\n",
              "dtype: int64"
            ]
          },
          "metadata": {},
          "execution_count": 26
        }
      ]
    },
    {
      "cell_type": "code",
      "source": [
        "del Apartments['Unnamed: 0']"
      ],
      "metadata": {
        "id": "bVPBcw-_LlGt"
      },
      "execution_count": null,
      "outputs": []
    },
    {
      "cell_type": "code",
      "source": [
        "# histogram of the numerical variables in the dataset\n",
        "Apartments.hist(bins=30)\n",
        "plt.show()"
      ],
      "metadata": {
        "colab": {
          "base_uri": "https://localhost:8080/",
          "height": 452
        },
        "id": "lqocRtO6C1gK",
        "outputId": "af220b45-3095-4f61-a723-670f626fa7c4"
      },
      "execution_count": 43,
      "outputs": [
        {
          "output_type": "display_data",
          "data": {
            "text/plain": [
              "<Figure size 640x480 with 4 Axes>"
            ],
            "image/png": "[encoded data removed]"
          },
          "metadata": {}
        }
      ]
    },
    {
      "cell_type": "code",
      "source": [
        "# boxplot of the numerical variables in the dataset\n",
        "Apartments.plot(kind=\"box\", subplots=True, layout=(2,2))\n",
        "plt.show()"
      ],
      "metadata": {
        "colab": {
          "base_uri": "https://localhost:8080/",
          "height": 430
        },
        "id": "KPtWqOTeu4I7",
        "outputId": "2eb261a1-ab3f-4e1c-d8cf-0c0e4f42e8ec"
      },
      "execution_count": 48,
      "outputs": [
        {
          "output_type": "display_data",
          "data": {
            "text/plain": [
              "<Figure size 640x480 with 4 Axes>"
            ],
            "image/png": "[encoded data removed]"
          },
          "metadata": {}
        }
      ]
    },
    {
      "cell_type": "code",
      "source": [
        "#correlation heatmap of the integer variables within the dataset\n",
        "sns.heatmap(Apartments.corr(), annot=True, cmap='coolwarm')"
      ],
      "metadata": {
        "colab": {
          "base_uri": "https://localhost:8080/",
          "height": 452
        },
        "id": "m4n632RfJn_I",
        "outputId": "683bf2f7-93bb-437c-d696-0bcd867a1ad6"
      },
      "execution_count": 49,
      "outputs": [
        {
          "output_type": "execute_result",
          "data": {
            "text/plain": [
              "<Axes: >"
            ]
          },
          "metadata": {},
          "execution_count": 49
        },
        {
          "output_type": "display_data",
          "data": {
            "text/plain": [
              "<Figure size 640x480 with 2 Axes>"
            ],
            "image/png": "[encoded data removed]"
          },
          "metadata": {}
        }
      ]
    },
    {
      "cell_type": "code",
      "source": [
        "sns.pairplot(Apartments)"
      ],
      "metadata": {
        "colab": {
          "base_uri": "https://localhost:8080/",
          "height": 775
        },
        "id": "6-XM2TbBnW5U",
        "outputId": "7df7ff1f-a0c1-457e-870b-639fd510a377"
      },
      "execution_count": 55,
      "outputs": [
        {
          "output_type": "execute_result",
          "data": {
            "text/plain": [
              "<seaborn.axisgrid.PairGrid at 0x7fe9854b9520>"
            ]
          },
          "metadata": {},
          "execution_count": 55
        },
        {
          "output_type": "display_data",
          "data": {
            "text/plain": [
              "<Figure size 750x750 with 12 Axes>"
            ],
            "image/png": "[encoded data removed]"
          },
          "metadata": {}
        }
      ]
    }
  ]
}
